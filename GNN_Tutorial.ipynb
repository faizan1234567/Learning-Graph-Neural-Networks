{
  "nbformat": 4,
  "nbformat_minor": 0,
  "metadata": {
    "colab": {
      "name": "GNN_Tutorial.ipynb",
      "provenance": [],
      "collapsed_sections": []
    },
    "kernelspec": {
      "name": "python3",
      "display_name": "Python 3"
    },
    "language_info": {
      "name": "python"
    },
    "accelerator": "GPU"
  },
  "cells": [
    {
      "cell_type": "code",
      "source": [
        "from google.colab import drive\n",
        "drive.mount('/gdrive')"
      ],
      "metadata": {
        "colab": {
          "base_uri": "https://localhost:8080/"
        },
        "id": "_2mcgvsozNdH",
        "outputId": "55b84956-490b-4277-b434-5087ae820b5e"
      },
      "execution_count": null,
      "outputs": [
        {
          "output_type": "stream",
          "name": "stdout",
          "text": [
            "Mounted at /gdrive\n"
          ]
        }
      ]
    },
    {
      "cell_type": "code",
      "source": [
        "%cd /gdrive/MyDrive/GNN/packages"
      ],
      "metadata": {
        "colab": {
          "base_uri": "https://localhost:8080/"
        },
        "id": "hfmw5307zb44",
        "outputId": "8a4dedb9-3e04-472d-8b32-f7e972442ec5"
      },
      "execution_count": null,
      "outputs": [
        {
          "output_type": "stream",
          "name": "stdout",
          "text": [
            "/gdrive/MyDrive/GNN/packages\n"
          ]
        }
      ]
    },
    {
      "cell_type": "code",
      "source": [
        "%pwd"
      ],
      "metadata": {
        "colab": {
          "base_uri": "https://localhost:8080/",
          "height": 35
        },
        "id": "jU4y8lLrzbmE",
        "outputId": "6c346d71-f86f-4872-eeba-b90fdf18b210"
      },
      "execution_count": null,
      "outputs": [
        {
          "output_type": "execute_result",
          "data": {
            "text/plain": [
              "'/gdrive/MyDrive/GNN/packages'"
            ],
            "application/vnd.google.colaboratory.intrinsic+json": {
              "type": "string"
            }
          },
          "metadata": {},
          "execution_count": 17
        }
      ]
    },
    {
      "cell_type": "code",
      "execution_count": null,
      "metadata": {
        "colab": {
          "base_uri": "https://localhost:8080/"
        },
        "id": "hTBgG7AkHEgV",
        "outputId": "123d4547-7c6c-48ab-bd0c-29fe6a74119b"
      },
      "outputs": [
        {
          "output_type": "stream",
          "name": "stdout",
          "text": [
            "Requirement already satisfied: torch-scatter in /usr/local/lib/python3.7/dist-packages (2.0.9)\n",
            "Requirement already satisfied: torch-sparse in /usr/local/lib/python3.7/dist-packages (0.6.13)\n",
            "Requirement already satisfied: scipy in /usr/local/lib/python3.7/dist-packages (from torch-sparse) (1.4.1)\n",
            "Requirement already satisfied: numpy>=1.13.3 in /usr/local/lib/python3.7/dist-packages (from scipy->torch-sparse) (1.21.5)\n",
            "Requirement already satisfied: torch-cluster in /usr/local/lib/python3.7/dist-packages (1.6.0)\n",
            "Requirement already satisfied: torch-spline-conv in /usr/local/lib/python3.7/dist-packages (1.2.1)\n",
            "Requirement already satisfied: torch-geometric in /usr/local/lib/python3.7/dist-packages (2.0.4)\n",
            "Requirement already satisfied: jinja2 in /usr/local/lib/python3.7/dist-packages (from torch-geometric) (2.11.3)\n",
            "Requirement already satisfied: scipy in /usr/local/lib/python3.7/dist-packages (from torch-geometric) (1.4.1)\n",
            "Requirement already satisfied: pyparsing in /usr/local/lib/python3.7/dist-packages (from torch-geometric) (3.0.7)\n",
            "Requirement already satisfied: scikit-learn in /usr/local/lib/python3.7/dist-packages (from torch-geometric) (1.0.2)\n",
            "Requirement already satisfied: tqdm in /usr/local/lib/python3.7/dist-packages (from torch-geometric) (4.63.0)\n",
            "Requirement already satisfied: numpy in /usr/local/lib/python3.7/dist-packages (from torch-geometric) (1.21.5)\n",
            "Requirement already satisfied: pandas in /usr/local/lib/python3.7/dist-packages (from torch-geometric) (1.3.5)\n",
            "Requirement already satisfied: requests in /usr/local/lib/python3.7/dist-packages (from torch-geometric) (2.23.0)\n",
            "Requirement already satisfied: MarkupSafe>=0.23 in /usr/local/lib/python3.7/dist-packages (from jinja2->torch-geometric) (2.0.1)\n",
            "Requirement already satisfied: python-dateutil>=2.7.3 in /usr/local/lib/python3.7/dist-packages (from pandas->torch-geometric) (2.8.2)\n",
            "Requirement already satisfied: pytz>=2017.3 in /usr/local/lib/python3.7/dist-packages (from pandas->torch-geometric) (2018.9)\n",
            "Requirement already satisfied: six>=1.5 in /usr/local/lib/python3.7/dist-packages (from python-dateutil>=2.7.3->pandas->torch-geometric) (1.15.0)\n",
            "Requirement already satisfied: urllib3!=1.25.0,!=1.25.1,<1.26,>=1.21.1 in /usr/local/lib/python3.7/dist-packages (from requests->torch-geometric) (1.24.3)\n",
            "Requirement already satisfied: idna<3,>=2.5 in /usr/local/lib/python3.7/dist-packages (from requests->torch-geometric) (2.10)\n",
            "Requirement already satisfied: certifi>=2017.4.17 in /usr/local/lib/python3.7/dist-packages (from requests->torch-geometric) (2021.10.8)\n",
            "Requirement already satisfied: chardet<4,>=3.0.2 in /usr/local/lib/python3.7/dist-packages (from requests->torch-geometric) (3.0.4)\n",
            "Requirement already satisfied: threadpoolctl>=2.0.0 in /usr/local/lib/python3.7/dist-packages (from scikit-learn->torch-geometric) (3.1.0)\n",
            "Requirement already satisfied: joblib>=0.11 in /usr/local/lib/python3.7/dist-packages (from scikit-learn->torch-geometric) (1.1.0)\n"
          ]
        }
      ],
      "source": [
        "!pip install --upgrade torch-scatter\n",
        "!pip install --upgrade torch-sparse\n",
        "!pip install --upgrade torch-cluster\n",
        "!pip install --upgrade torch-spline-conv \n",
        "!pip install torch-geometric"
      ]
    },
    {
      "cell_type": "code",
      "source": [
        "import torch\n",
        "from torch_geometric.data import Data\n",
        "\n",
        "edge_index = torch.tensor([[0, 1],      # define node relationships (connected between nodes)\n",
        "                           [1, 0],\n",
        "                           [1, 2],\n",
        "                           [2, 1]], dtype= torch.long)\n",
        "\n",
        "x = torch.tensor([[-1], [0], [1]], dtype = torch.float)  # number of nodes and node features\n",
        "data = Data(x = x, edge_index= edge_index.t().contiguous()) # define data dict kind object with node features and edge relationships\n",
        "data"
      ],
      "metadata": {
        "colab": {
          "base_uri": "https://localhost:8080/"
        },
        "id": "IKLNjnUoHIrI",
        "outputId": "811e01b8-da09-4fc1-a773-2b38fa88d498"
      },
      "execution_count": null,
      "outputs": [
        {
          "output_type": "execute_result",
          "data": {
            "text/plain": [
              "Data(x=[3, 1], edge_index=[2, 4])"
            ]
          },
          "metadata": {},
          "execution_count": 19
        }
      ]
    },
    {
      "cell_type": "markdown",
      "source": [
        "- Useful utility functions and attributes"
      ],
      "metadata": {
        "id": "RdNs42YONMM7"
      }
    },
    {
      "cell_type": "code",
      "source": [
        "print(f'keys of graph attributes: {data.keys}') # show node and edge keys\n",
        "\n",
        "print(f\"node features: {data['x']}\")\n",
        "\n",
        "for key, item in data:\n",
        "  print(f'{key} found in the data')\n",
        "\n",
        "print('edge_attr' in data)\n",
        "\n",
        "print('Number of nodes: {}'.format(data.num_nodes))\n",
        "\n",
        "print(\"Number of edges: {}\".format(data.num_edges))\n",
        "\n",
        "print(\"number of node features: {}\".format(data.num_node_features))\n",
        "\n",
        "print(\"is node isolaged? : {}\".format(data.has_isolated_nodes()))\n",
        "\n",
        "print(\"has graph self loops? : {}\".format(data.has_self_loops()))\n",
        "\n",
        "print(\"is graph directed? : {}\".format(data.is_directed()))"
      ],
      "metadata": {
        "colab": {
          "base_uri": "https://localhost:8080/"
        },
        "id": "Te8Ou_pnL4TV",
        "outputId": "312b6927-18e3-4a42-b3ab-2f9d7ba49b91"
      },
      "execution_count": null,
      "outputs": [
        {
          "output_type": "stream",
          "name": "stdout",
          "text": [
            "keys of graph attributes: ['edge_index', 'x']\n",
            "node features: tensor([[-1.],\n",
            "        [ 0.],\n",
            "        [ 1.]])\n",
            "x found in the data\n",
            "edge_index found in the data\n",
            "False\n",
            "Number of nodes: 3\n",
            "Number of edges: 4\n",
            "number of node features: 1\n",
            "is node isolaged? : False\n",
            "has graph self loops? : False\n",
            "is graph directed? : False\n"
          ]
        }
      ]
    },
    {
      "cell_type": "code",
      "source": [
        "from torch_geometric.datasets import TUDataset\n",
        "\n",
        "dataset = TUDataset(root= '/tmp/ENZYMES', name = \"ENZYMES\")\n",
        "\n",
        "print(\"dataset information e,g. Number of graphs in the dataset: {}\".format(dataset))\n",
        "\n",
        "print(\"Number of classes in the dataset: {}\".format(dataset.num_classes))       \n",
        "\n",
        "print(\"Number of node features: {}\".format(dataset.num_node_features))                    "
      ],
      "metadata": {
        "colab": {
          "base_uri": "https://localhost:8080/"
        },
        "id": "ME4uf8BlNWPw",
        "outputId": "4747927b-6f9d-4be0-c870-d76b83f34f87"
      },
      "execution_count": null,
      "outputs": [
        {
          "output_type": "stream",
          "name": "stdout",
          "text": [
            "dataset information e,g. Number of graphs in the dataset: ENZYMES(600)\n",
            "Number of classes in the dataset: 6\n",
            "Number of node features: 3\n"
          ]
        }
      ]
    },
    {
      "cell_type": "code",
      "source": [
        "data = dataset[0]                # first graph\n",
        "print(data.is_undirected())      \n",
        "data                             # dataset info e,g 168/2 = 84 edges, 37 nodes, and each node has 3 features"
      ],
      "metadata": {
        "colab": {
          "base_uri": "https://localhost:8080/"
        },
        "id": "j8X4bQ8ZQkUx",
        "outputId": "7e56d060-320b-4303-b2f8-f82426649b82"
      },
      "execution_count": null,
      "outputs": [
        {
          "output_type": "stream",
          "name": "stdout",
          "text": [
            "True\n"
          ]
        },
        {
          "output_type": "execute_result",
          "data": {
            "text/plain": [
              "Data(edge_index=[2, 168], x=[37, 3], y=[1])"
            ]
          },
          "metadata": {},
          "execution_count": 22
        }
      ]
    },
    {
      "cell_type": "markdown",
      "source": [
        "- splitting the graph dataset into training and test sets (90/10)"
      ],
      "metadata": {
        "id": "_BLxQrYnTLcx"
      }
    },
    {
      "cell_type": "code",
      "source": [
        "train_dataset = dataset[:540]\n",
        "\n",
        "print(train_dataset)\n",
        "\n",
        "test_dataset = dataset[540:]\n",
        "\n",
        "print(test_dataset)"
      ],
      "metadata": {
        "colab": {
          "base_uri": "https://localhost:8080/"
        },
        "id": "ZB14YG7pRsRI",
        "outputId": "ac2034c5-aa0a-45e8-af60-813f00b1ccd6"
      },
      "execution_count": null,
      "outputs": [
        {
          "output_type": "stream",
          "name": "stdout",
          "text": [
            "ENZYMES(540)\n",
            "ENZYMES(60)\n"
          ]
        }
      ]
    },
    {
      "cell_type": "code",
      "source": [
        "train_dataset = train_dataset.shuffle()\n"
      ],
      "metadata": {
        "id": "qz1NruOlTcY5"
      },
      "execution_count": null,
      "outputs": []
    },
    {
      "cell_type": "markdown",
      "source": [
        "- Let's download another dataset. 'Cora'"
      ],
      "metadata": {
        "id": "LhROAsWvT0n7"
      }
    },
    {
      "cell_type": "code",
      "source": [
        "from torch_geometric.datasets import Planetoid\n",
        "\n",
        "dataset = Planetoid(root = 'tmp/Cora', name = 'Cora')\n",
        "\n",
        "dataset\n",
        "\n",
        "print('dataset length: {}'.format(len(dataset)))\n",
        "\n",
        "print('Number of classes in Cora dataset: {}'.format(dataset.num_classes))\n",
        "\n",
        "print('Number of node features in the dataset: {}'.format(dataset.num_node_features))\n",
        "\n",
        "print('Information about the graph: {}'\\\n",
        "      .format(dataset[0]))\n",
        "\n",
        "print('is data undirected?: {}'.format(dataset[0].is_undirected()))\n",
        "\n",
        "print(\"sum of the elements of the train masks: {}\".format(dataset[0].train_mask.sum().item()))\n",
        "\n",
        "print(\"sum of the elements of the validation masks: {}\".format(dataset[0].val_mask.sum().item()))\n",
        "\n",
        "print(\"sum of the elements of the test masks: {}\".format(dataset[0].test_mask.sum().item()))"
      ],
      "metadata": {
        "colab": {
          "base_uri": "https://localhost:8080/"
        },
        "id": "PehB-_ggTr_A",
        "outputId": "8e5c6482-8a2b-431d-9679-bed2f8e9dc13"
      },
      "execution_count": null,
      "outputs": [
        {
          "output_type": "stream",
          "name": "stderr",
          "text": [
            "Downloading https://github.com/kimiyoung/planetoid/raw/master/data/ind.cora.x\n",
            "Downloading https://github.com/kimiyoung/planetoid/raw/master/data/ind.cora.tx\n",
            "Downloading https://github.com/kimiyoung/planetoid/raw/master/data/ind.cora.allx\n",
            "Downloading https://github.com/kimiyoung/planetoid/raw/master/data/ind.cora.y\n",
            "Downloading https://github.com/kimiyoung/planetoid/raw/master/data/ind.cora.ty\n",
            "Downloading https://github.com/kimiyoung/planetoid/raw/master/data/ind.cora.ally\n",
            "Downloading https://github.com/kimiyoung/planetoid/raw/master/data/ind.cora.graph\n",
            "Downloading https://github.com/kimiyoung/planetoid/raw/master/data/ind.cora.test.index\n"
          ]
        },
        {
          "output_type": "stream",
          "name": "stdout",
          "text": [
            "dataset length: 1\n",
            "Number of classes in Cora dataset: 7\n",
            "Number of node features in the dataset: 1433\n",
            "Information about the graph: Data(x=[2708, 1433], edge_index=[2, 10556], y=[2708], train_mask=[2708], val_mask=[2708], test_mask=[2708])\n",
            "is data undirected?: True\n",
            "sum of the elements of the train masks: 140\n",
            "sum of the elements of the validation masks: 500\n",
            "sum of the elements of the test masks: 1000\n"
          ]
        },
        {
          "output_type": "stream",
          "name": "stderr",
          "text": [
            "Processing...\n",
            "Done!\n"
          ]
        }
      ]
    },
    {
      "cell_type": "markdown",
      "source": [
        "- Mini-batches "
      ],
      "metadata": {
        "id": "mXn8AQ8qXhxi"
      }
    },
    {
      "cell_type": "code",
      "source": [
        "from torch_geometric.datasets import TUDataset\n",
        "from torch_scatter import scatter_mean\n",
        "from torch_geometric.loader import DataLoader\n",
        "\n",
        "dataset = TUDataset(root = \"/tmp/ENZYMES\", name = \"ENZYMES\", use_node_attr= True)\n",
        "loader = DataLoader(dataset, batch_size = 32, shuffle = True)\n",
        "\n",
        "\n",
        "for batch in loader:\n",
        "  print(batch)\n",
        "\n",
        "print(batch.num_graphs)"
      ],
      "metadata": {
        "colab": {
          "base_uri": "https://localhost:8080/"
        },
        "id": "YwdG_gxjUCDs",
        "outputId": "ecf3a8ba-811b-4fb9-9d3a-dfe95e533469"
      },
      "execution_count": null,
      "outputs": [
        {
          "output_type": "stream",
          "name": "stdout",
          "text": [
            "DataBatch(edge_index=[2, 3956], x=[1092, 21], y=[32], batch=[1092], ptr=[33])\n",
            "DataBatch(edge_index=[2, 3974], x=[1008, 21], y=[32], batch=[1008], ptr=[33])\n",
            "DataBatch(edge_index=[2, 3816], x=[1022, 21], y=[32], batch=[1022], ptr=[33])\n",
            "DataBatch(edge_index=[2, 3882], x=[1044, 21], y=[32], batch=[1044], ptr=[33])\n",
            "DataBatch(edge_index=[2, 4154], x=[1074, 21], y=[32], batch=[1074], ptr=[33])\n",
            "DataBatch(edge_index=[2, 3674], x=[937, 21], y=[32], batch=[937], ptr=[33])\n",
            "DataBatch(edge_index=[2, 4166], x=[1110, 21], y=[32], batch=[1110], ptr=[33])\n",
            "DataBatch(edge_index=[2, 4794], x=[1261, 21], y=[32], batch=[1261], ptr=[33])\n",
            "DataBatch(edge_index=[2, 3488], x=[901, 21], y=[32], batch=[901], ptr=[33])\n",
            "DataBatch(edge_index=[2, 3726], x=[1011, 21], y=[32], batch=[1011], ptr=[33])\n",
            "DataBatch(edge_index=[2, 4010], x=[1036, 21], y=[32], batch=[1036], ptr=[33])\n",
            "DataBatch(edge_index=[2, 3894], x=[1054, 21], y=[32], batch=[1054], ptr=[33])\n",
            "DataBatch(edge_index=[2, 4038], x=[1074, 21], y=[32], batch=[1074], ptr=[33])\n",
            "DataBatch(edge_index=[2, 3924], x=[1000, 21], y=[32], batch=[1000], ptr=[33])\n",
            "DataBatch(edge_index=[2, 4472], x=[1132, 21], y=[32], batch=[1132], ptr=[33])\n",
            "DataBatch(edge_index=[2, 4054], x=[1065, 21], y=[32], batch=[1065], ptr=[33])\n",
            "DataBatch(edge_index=[2, 3788], x=[984, 21], y=[32], batch=[984], ptr=[33])\n",
            "DataBatch(edge_index=[2, 3668], x=[965, 21], y=[32], batch=[965], ptr=[33])\n",
            "DataBatch(edge_index=[2, 3086], x=[810, 21], y=[24], batch=[810], ptr=[25])\n",
            "24\n"
          ]
        }
      ]
    },
    {
      "cell_type": "markdown",
      "source": [
        "Data transforms"
      ],
      "metadata": {
        "id": "NA5nmyhSaFzl"
      }
    },
    {
      "cell_type": "code",
      "source": [
        "from torch_geometric.datasets import ShapeNet\n",
        "\n",
        "dataset = ShapeNet(root='/tmp/ShapeNet', categories=['Airplane'])\n",
        "\n",
        "dataset[0]\n"
      ],
      "metadata": {
        "colab": {
          "base_uri": "https://localhost:8080/"
        },
        "id": "2fz8qlolYSVP",
        "outputId": "416a0270-bcd0-4761-c5a8-3b60c1063263"
      },
      "execution_count": null,
      "outputs": [
        {
          "output_type": "execute_result",
          "data": {
            "text/plain": [
              "Data(x=[2518, 3], y=[2518], pos=[2518, 3], category=[1])"
            ]
          },
          "metadata": {},
          "execution_count": 27
        }
      ]
    },
    {
      "cell_type": "code",
      "source": [
        "import torch_geometric.transforms as T\n",
        "from torch_geometric.datasets import ShapeNet\n",
        "\n",
        "dataset = ShapeNet(root='/tmp/ShapeNet', categories=['Airplane'],\n",
        "                    pre_transform=T.KNNGraph(k=6))\n",
        "dataset[0]"
      ],
      "metadata": {
        "id": "7emOyne6YZA2",
        "colab": {
          "base_uri": "https://localhost:8080/"
        },
        "outputId": "65e03405-7124-493f-9461-d20378aeb8fb"
      },
      "execution_count": null,
      "outputs": [
        {
          "output_type": "stream",
          "name": "stderr",
          "text": [
            "/usr/local/lib/python3.7/dist-packages/torch_geometric/data/dataset.py:151: UserWarning: The `pre_transform` argument differs from the one used in the pre-processed version of this dataset. If you want to make use of another pre-processing technique, make sure to sure to delete '/tmp/ShapeNet/processed' first\n",
            "  f\"The `pre_transform` argument differs from the one used in \"\n"
          ]
        },
        {
          "output_type": "execute_result",
          "data": {
            "text/plain": [
              "Data(x=[2518, 3], y=[2518], pos=[2518, 3], category=[1])"
            ]
          },
          "metadata": {},
          "execution_count": 28
        }
      ]
    },
    {
      "cell_type": "code",
      "source": [
        "import torch_geometric.transforms as T\n",
        "from torch_geometric.datasets import ShapeNet\n",
        "\n",
        "dataset = ShapeNet(root='/tmp/ShapeNet', categories=['Airplane'],\n",
        "                    pre_transform=T.KNNGraph(k=6),\n",
        "                    transform=T.RandomTranslate(0.01))\n",
        "\n",
        "dataset[0]"
      ],
      "metadata": {
        "colab": {
          "base_uri": "https://localhost:8080/"
        },
        "id": "HqXFdORvavOk",
        "outputId": "58b845a8-8195-45b4-d736-75a5591f0742"
      },
      "execution_count": null,
      "outputs": [
        {
          "output_type": "stream",
          "name": "stderr",
          "text": [
            "/usr/local/lib/python3.7/dist-packages/torch_geometric/data/dataset.py:151: UserWarning: The `pre_transform` argument differs from the one used in the pre-processed version of this dataset. If you want to make use of another pre-processing technique, make sure to sure to delete '/tmp/ShapeNet/processed' first\n",
            "  f\"The `pre_transform` argument differs from the one used in \"\n"
          ]
        },
        {
          "output_type": "execute_result",
          "data": {
            "text/plain": [
              "Data(x=[2518, 3], y=[2518], pos=[2518, 3], category=[1])"
            ]
          },
          "metadata": {},
          "execution_count": 29
        }
      ]
    },
    {
      "cell_type": "markdown",
      "source": [
        "# Learning methods on graphs"
      ],
      "metadata": {
        "id": "YeduwGc00n-j"
      }
    },
    {
      "cell_type": "markdown",
      "source": [
        "- load cora dataset"
      ],
      "metadata": {
        "id": "9oLPRVfZ02-v"
      }
    },
    {
      "cell_type": "code",
      "source": [
        "from torch_geometric.datasets import Planetoid\n",
        "\n",
        "dataset = Planetoid(root = 'Cora', name = 'Cora')\n",
        "dataset"
      ],
      "metadata": {
        "colab": {
          "base_uri": "https://localhost:8080/"
        },
        "id": "5zSQhcHo02X1",
        "outputId": "39528050-2243-485d-8a7a-a982d3b549a0"
      },
      "execution_count": null,
      "outputs": [
        {
          "output_type": "stream",
          "name": "stderr",
          "text": [
            "Downloading https://github.com/kimiyoung/planetoid/raw/master/data/ind.cora.x\n",
            "Downloading https://github.com/kimiyoung/planetoid/raw/master/data/ind.cora.tx\n",
            "Downloading https://github.com/kimiyoung/planetoid/raw/master/data/ind.cora.allx\n",
            "Downloading https://github.com/kimiyoung/planetoid/raw/master/data/ind.cora.y\n",
            "Downloading https://github.com/kimiyoung/planetoid/raw/master/data/ind.cora.ty\n",
            "Downloading https://github.com/kimiyoung/planetoid/raw/master/data/ind.cora.ally\n",
            "Downloading https://github.com/kimiyoung/planetoid/raw/master/data/ind.cora.graph\n",
            "Downloading https://github.com/kimiyoung/planetoid/raw/master/data/ind.cora.test.index\n",
            "Processing...\n",
            "Done!\n"
          ]
        },
        {
          "output_type": "execute_result",
          "data": {
            "text/plain": [
              "Cora()"
            ]
          },
          "metadata": {},
          "execution_count": 31
        }
      ]
    },
    {
      "cell_type": "code",
      "source": [
        "index = 0\n",
        "print(f'dataset size: {len(dataset)} and number of classes: {dataset.num_classes}')\n",
        "print(f'first graph in the dataset: {dataset[index]}')\n",
        "print(f\"Nodes in the {index}th graph: {dataset[index].num_nodes}\")\n",
        "print(f\"features in the {index}th graph nodes: {dataset.num_node_features}\")\n",
        "print(f\"edges in the {index}th graph: {dataset[index].num_edges/2}\")\n",
        "# dataset[0].edge_index.shape\n",
        "# dataset.num_edges\n"
      ],
      "metadata": {
        "id": "mgCH7unRbJMz"
      },
      "execution_count": null,
      "outputs": []
    },
    {
      "cell_type": "markdown",
      "source": [
        "# Train GNN\n"
      ],
      "metadata": {
        "id": "jYhTU9iv5DfX"
      }
    },
    {
      "cell_type": "code",
      "source": [
        "import torch\n",
        "import torch.nn.functional as F\n",
        "import matplotlib.pyplot as plt\n",
        "from torch_geometric.nn import GCNConv\n",
        "\n",
        "class GCN(torch.nn.Module):\n",
        "  def __init__(self):\n",
        "    super().__init__()\n",
        "    self.conv1 = GCNConv(dataset.num_node_features, 16)\n",
        "    self.conv2 = GCNConv(16, dataset.num_classes)\n",
        "\n",
        "  def forward(self, data):\n",
        "    x, edge_index = data.x, data.edge_index\n",
        "\n",
        "    x = self.conv1(x, edge_index)\n",
        "    x = F.relu(x)\n",
        "\n",
        "    x = F.dropout(x, training = self.training)\n",
        "    x = self.conv2(x, edge_index)\n",
        "\n",
        "    return F.log_softmax(x, dim=1)"
      ],
      "metadata": {
        "id": "GdNY_KO45DCs"
      },
      "execution_count": null,
      "outputs": []
    },
    {
      "cell_type": "code",
      "source": [
        "dataset[0].y[dataset[0].train_mask]"
      ],
      "metadata": {
        "colab": {
          "base_uri": "https://localhost:8080/"
        },
        "id": "bD98bQ3E8yMo",
        "outputId": "7925d434-6340-469b-acb0-d711679cd721"
      },
      "execution_count": null,
      "outputs": [
        {
          "output_type": "execute_result",
          "data": {
            "text/plain": [
              "tensor([3, 4, 4, 0, 3, 2, 0, 3, 3, 2, 0, 0, 4, 3, 3, 3, 2, 3, 1, 3, 5, 3, 4, 6,\n",
              "        3, 3, 6, 3, 2, 4, 3, 6, 0, 4, 2, 0, 1, 5, 4, 4, 3, 6, 6, 4, 3, 3, 2, 5,\n",
              "        3, 4, 5, 3, 0, 2, 1, 4, 6, 3, 2, 2, 0, 0, 0, 4, 2, 0, 4, 5, 2, 6, 5, 2,\n",
              "        2, 2, 0, 4, 5, 6, 4, 0, 0, 0, 4, 2, 4, 1, 4, 6, 0, 4, 2, 4, 6, 6, 0, 0,\n",
              "        6, 5, 0, 6, 0, 2, 1, 1, 1, 2, 6, 5, 6, 1, 2, 2, 1, 5, 5, 5, 6, 5, 6, 5,\n",
              "        5, 1, 6, 6, 1, 5, 1, 6, 5, 5, 5, 1, 5, 1, 1, 1, 1, 1, 1, 1])"
            ]
          },
          "metadata": {},
          "execution_count": 68
        }
      ]
    },
    {
      "cell_type": "code",
      "source": [
        "device = torch.device('cuda' if torch.cuda.is_available() else 'cpu')\n",
        "model = GCN().to(device)\n",
        "data = dataset[0].to(device)\n",
        "optimizer = torch.optim.Adam(model.parameters(), lr = 0.01, weight_decay=5e-4)\n",
        "\n",
        "model.train()\n",
        "loss_metric = []\n",
        "steps = []\n",
        "num_epochs = 500\n",
        "for epoch in range(num_epochs):\n",
        "  optimizer.zero_grad()\n",
        "  out = model(data)\n",
        "  loss = F.nll_loss(out[data.train_mask], data.y[data.train_mask])\n",
        "  # print(f'Loss: {loss: 0.3f}')\n",
        "  loss_metric.append(loss.cpu())\n",
        "  steps.append(epoch)\n",
        "  loss.backward()\n",
        "  optimizer.step()\n"
      ],
      "metadata": {
        "id": "RYbCdjM61XZT"
      },
      "execution_count": null,
      "outputs": []
    },
    {
      "cell_type": "code",
      "source": [
        "model.eval()\n",
        "pred = model(data).argmax(dim=1)\n",
        "correct = (pred[data.test_mask] == data.y[data.test_mask]).sum()\n",
        "acc = int(correct) / int(data.test_mask.sum())\n",
        "print(f'Accuracy: {acc:.4f}')"
      ],
      "metadata": {
        "colab": {
          "base_uri": "https://localhost:8080/"
        },
        "id": "uuep6e3k7plH",
        "outputId": "381a9257-5640-45f3-dd72-c0975fff35a4"
      },
      "execution_count": null,
      "outputs": [
        {
          "output_type": "stream",
          "name": "stdout",
          "text": [
            "Accuracy: 0.8010\n"
          ]
        }
      ]
    }
  ]
}