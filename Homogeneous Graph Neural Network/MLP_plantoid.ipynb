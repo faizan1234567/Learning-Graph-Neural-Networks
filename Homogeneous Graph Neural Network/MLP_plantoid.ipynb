{
  "nbformat": 4,
  "nbformat_minor": 0,
  "metadata": {
    "colab": {
      "name": "MLP_plantoid.ipynb",
      "provenance": []
    },
    "kernelspec": {
      "name": "python3",
      "display_name": "Python 3"
    },
    "language_info": {
      "name": "python"
    },
    "accelerator": "GPU"
  },
  "cells": [
    {
      "cell_type": "code",
      "execution_count": null,
      "metadata": {
        "colab": {
          "base_uri": "https://localhost:8080/"
        },
        "id": "NlE2WMNeEfD_",
        "outputId": "18b55f55-681f-4e60-cac9-d241195a1e14"
      },
      "outputs": [
        {
          "output_type": "stream",
          "name": "stdout",
          "text": [
            "\u001b[K     |████████████████████████████████| 7.9 MB 4.5 MB/s \n",
            "\u001b[K     |████████████████████████████████| 3.5 MB 4.0 MB/s \n",
            "\u001b[?25h  Building wheel for torch-geometric (setup.py) ... \u001b[?25l\u001b[?25hdone\n"
          ]
        }
      ],
      "source": [
        "#install required packages\n",
        "!pip install -q torch-scatter -f https://data.pyg.org/whl/torch-1.11.0+cu113.html\n",
        "!pip install -q torch-sparse -f https://data.pyg.org/whl/torch-1.11.0+cu113.html\n",
        "!pip install -q git+https://github.com/pyg-team/pytorch_geometric.git"
      ]
    },
    {
      "cell_type": "code",
      "source": [
        "# helper function for visualization\n",
        "%matplotlib inline\n",
        "import matplotlib.pyplot as plt\n",
        "from sklearn.manifold import TSNE\n",
        "\n",
        "def visualize(h, color):\n",
        "  z = TSNE(n_components=2).fit_transform(h.detach().cpu().numpy())\n",
        "\n",
        "  plt.figure(figsize = (10, 10))\n",
        "  plt.xticks([])\n",
        "  plt.yticks([])\n",
        "\n",
        "  plt.scatter(z[:, 0], z[:, 1], s = 70, c = color, cmap = 'Set2')\n",
        "  plt.show()"
      ],
      "metadata": {
        "id": "hSIXRkJuEpoM"
      },
      "execution_count": null,
      "outputs": []
    },
    {
      "cell_type": "code",
      "source": [
        "from torch_geometric.datasets import Planetoid\n",
        "from torch_geometric.transforms import NormalizeFeatures\n",
        "\n",
        "def data(name):\n",
        "  dataset = Planetoid(root = \"data/Planetoid\", name = f\"{name}\", transform = NormalizeFeatures())\n",
        "  return dataset\n",
        "dataset = data(\"Citeseer\") # chnage dataset type\n",
        "print(dataset) \n",
        "\n",
        "print(\"---\"*36)\n",
        "print(f'length of the dataset: {len(dataset)}')\n",
        "print(f'features in the dataset: {dataset.num_features}')\n",
        "print(f'Number of classes in the dataset: {dataset.num_classes}')\n",
        "print(\"---\"*36)\n",
        "data = dataset[0]\n",
        "print('print dataset properties')\n",
        "print(data)\n",
        "\n",
        "print(f'Number of nodes in the dataset: {data.num_nodes}')\n",
        "print(f'Number of edges in the dataset: {data.num_edges}')\n",
        "print(f'Average Node degree: {data.num_edges/data.num_nodes:0.2f}')\n",
        "print(f'number of training nodes: {data.train_mask.sum()}')\n",
        "print(f'Training node label rate: {data.train_mask.sum()/data.num_nodes:0.2f}')\n",
        "print(f'Has isolated nodes: {data.has_isolated_nodes()}')\n",
        "print(f'Has self-loops: {data.has_self_loops()}')\n",
        "print(f'Is undirected: {data.is_undirected()}')"
      ],
      "metadata": {
        "colab": {
          "base_uri": "https://localhost:8080/"
        },
        "id": "3WHdn7TmEw61",
        "outputId": "b4b18b77-7d89-43de-d242-d0b3e4126ded"
      },
      "execution_count": null,
      "outputs": [
        {
          "output_type": "stream",
          "name": "stdout",
          "text": [
            "Citeseer()\n",
            "------------------------------------------------------------------------------------------------------------\n",
            "length of the dataset: 1\n",
            "features in the dataset: 3703\n",
            "Number of classes in the dataset: 6\n",
            "------------------------------------------------------------------------------------------------------------\n",
            "print dataset properties\n",
            "Data(x=[3327, 3703], edge_index=[2, 9104], y=[3327], train_mask=[3327], val_mask=[3327], test_mask=[3327])\n",
            "Number of nodes in the dataset: 3327\n",
            "Number of edges in the dataset: 9104\n",
            "Average Node degree: 2.74\n",
            "number of training nodes: 120\n",
            "Training node label rate: 0.04\n",
            "Has isolated nodes: True\n",
            "Has self-loops: False\n",
            "Is undirected: True\n"
          ]
        }
      ]
    },
    {
      "cell_type": "code",
      "source": [
        "import torch\n",
        "from torch.nn import Linear\n",
        "import torch.nn.functional as F\n",
        "\n",
        "class MLP(torch.nn.Module):\n",
        "  def __init__(self, hidden_channles):\n",
        "    super().__init__()\n",
        "    torch.manual_seed(12345)\n",
        "    self.l1 = Linear(dataset.num_features, hidden_channles)\n",
        "    self.l2 = Linear(hidden_channles, dataset.num_classes)\n",
        "\n",
        "  def forward(self, x):\n",
        "    x = self.l1(x)\n",
        "    x = F.relu(x)\n",
        "    x = F.dropout(x, p = 0.5, training = self.training)\n",
        "    x = self.l2(x)\n",
        "    return x\n",
        "\n",
        "\n",
        "model = MLP(hidden_channles=16)\n",
        "print(model)\n"
      ],
      "metadata": {
        "colab": {
          "base_uri": "https://localhost:8080/"
        },
        "id": "Bs1ddwWuE0mU",
        "outputId": "8f31b5d0-bbff-4fa1-ea4a-69e939ed1876"
      },
      "execution_count": null,
      "outputs": [
        {
          "output_type": "stream",
          "name": "stdout",
          "text": [
            "MLP(\n",
            "  (l1): Linear(in_features=3703, out_features=16, bias=True)\n",
            "  (l2): Linear(in_features=16, out_features=6, bias=True)\n",
            ")\n"
          ]
        }
      ]
    },
    {
      "cell_type": "code",
      "source": [
        "model = MLP(hidden_channles=16)\n",
        "criterion = torch.nn.CrossEntropyLoss()\n",
        "optimizer = torch.optim.Adam(model.parameters(), lr = 0.01, weight_decay = 5e-4)\n"
      ],
      "metadata": {
        "id": "xJYpB-NZE94S"
      },
      "execution_count": null,
      "outputs": []
    },
    {
      "cell_type": "code",
      "source": [
        "from IPython.display import Javascript  # Restrict height of output cell.\n",
        "display(Javascript('''google.colab.output.setIframeHeight(0, true, {maxHeight: 300})'''))\n",
        "\n",
        "\n",
        "def train():\n",
        "  model.train()\n",
        "  optimizer.zero_grad()\n",
        "  out = model(data.x)\n",
        "  loss = criterion(out[data.train_mask], data.y[data.train_mask])\n",
        "  loss.backward()\n",
        "  optimizer.step()\n",
        "  return loss\n",
        "\n",
        "def test():\n",
        "  model.eval()\n",
        "  out = model(data.x)\n",
        "  pred = out.argmax(dim=1)\n",
        "  test_correct = (pred[data.test_mask] == data.y[data.test_mask])\n",
        "  test_acc = int(test_correct.sum())/int(data.test_mask.sum())\n",
        "  return test_acc\n",
        "for epoch in range(1, 201):\n",
        "    loss = train()\n",
        "    print(f'Epoch: {epoch:03d}, Loss: {loss:.4f}')"
      ],
      "metadata": {
        "colab": {
          "base_uri": "https://localhost:8080/",
          "height": 300
        },
        "id": "f60etccfFB6g",
        "outputId": "556e520e-3f7d-4e4b-f0f6-c9b1da2ce18e"
      },
      "execution_count": null,
      "outputs": [
        {
          "output_type": "display_data",
          "data": {
            "text/plain": [
              "<IPython.core.display.Javascript object>"
            ],
            "application/javascript": [
              "google.colab.output.setIframeHeight(0, true, {maxHeight: 300})"
            ]
          },
          "metadata": {}
        },
        {
          "output_type": "stream",
          "name": "stdout",
          "text": [
            "Epoch: 001, Loss: 1.8032\n",
            "Epoch: 002, Loss: 1.7984\n",
            "Epoch: 003, Loss: 1.7924\n",
            "Epoch: 004, Loss: 1.7849\n",
            "Epoch: 005, Loss: 1.7753\n",
            "Epoch: 006, Loss: 1.7695\n",
            "Epoch: 007, Loss: 1.7571\n",
            "Epoch: 008, Loss: 1.7482\n",
            "Epoch: 009, Loss: 1.7426\n",
            "Epoch: 010, Loss: 1.7279\n",
            "Epoch: 011, Loss: 1.7184\n",
            "Epoch: 012, Loss: 1.6971\n",
            "Epoch: 013, Loss: 1.6868\n",
            "Epoch: 014, Loss: 1.6798\n",
            "Epoch: 015, Loss: 1.6684\n",
            "Epoch: 016, Loss: 1.6549\n",
            "Epoch: 017, Loss: 1.6277\n",
            "Epoch: 018, Loss: 1.6293\n",
            "Epoch: 019, Loss: 1.6114\n",
            "Epoch: 020, Loss: 1.5793\n",
            "Epoch: 021, Loss: 1.5792\n",
            "Epoch: 022, Loss: 1.5556\n",
            "Epoch: 023, Loss: 1.5405\n",
            "Epoch: 024, Loss: 1.5248\n",
            "Epoch: 025, Loss: 1.4971\n",
            "Epoch: 026, Loss: 1.4818\n",
            "Epoch: 027, Loss: 1.4754\n",
            "Epoch: 028, Loss: 1.4292\n",
            "Epoch: 029, Loss: 1.4271\n",
            "Epoch: 030, Loss: 1.4126\n",
            "Epoch: 031, Loss: 1.3647\n",
            "Epoch: 032, Loss: 1.3686\n",
            "Epoch: 033, Loss: 1.3339\n",
            "Epoch: 034, Loss: 1.3454\n",
            "Epoch: 035, Loss: 1.2883\n",
            "Epoch: 036, Loss: 1.3052\n",
            "Epoch: 037, Loss: 1.2462\n",
            "Epoch: 038, Loss: 1.2758\n",
            "Epoch: 039, Loss: 1.1842\n",
            "Epoch: 040, Loss: 1.1490\n",
            "Epoch: 041, Loss: 1.1531\n",
            "Epoch: 042, Loss: 1.1188\n",
            "Epoch: 043, Loss: 1.1493\n",
            "Epoch: 044, Loss: 1.0934\n",
            "Epoch: 045, Loss: 1.1225\n",
            "Epoch: 046, Loss: 1.0686\n",
            "Epoch: 047, Loss: 1.0367\n",
            "Epoch: 048, Loss: 1.0134\n",
            "Epoch: 049, Loss: 0.9911\n",
            "Epoch: 050, Loss: 1.0015\n",
            "Epoch: 051, Loss: 0.9624\n",
            "Epoch: 052, Loss: 0.9004\n",
            "Epoch: 053, Loss: 0.9312\n",
            "Epoch: 054, Loss: 0.8758\n",
            "Epoch: 055, Loss: 0.8437\n",
            "Epoch: 056, Loss: 0.8680\n",
            "Epoch: 057, Loss: 0.8416\n",
            "Epoch: 058, Loss: 0.8815\n",
            "Epoch: 059, Loss: 0.8344\n",
            "Epoch: 060, Loss: 0.8061\n",
            "Epoch: 061, Loss: 0.8776\n",
            "Epoch: 062, Loss: 0.7652\n",
            "Epoch: 063, Loss: 0.7498\n",
            "Epoch: 064, Loss: 0.7176\n",
            "Epoch: 065, Loss: 0.7379\n",
            "Epoch: 066, Loss: 0.7679\n",
            "Epoch: 067, Loss: 0.6612\n",
            "Epoch: 068, Loss: 0.6984\n",
            "Epoch: 069, Loss: 0.6823\n",
            "Epoch: 070, Loss: 0.7439\n",
            "Epoch: 071, Loss: 0.6237\n",
            "Epoch: 072, Loss: 0.6134\n",
            "Epoch: 073, Loss: 0.6626\n",
            "Epoch: 074, Loss: 0.6390\n",
            "Epoch: 075, Loss: 0.6634\n",
            "Epoch: 076, Loss: 0.6302\n",
            "Epoch: 077, Loss: 0.6140\n",
            "Epoch: 078, Loss: 0.6764\n",
            "Epoch: 079, Loss: 0.6079\n",
            "Epoch: 080, Loss: 0.5477\n",
            "Epoch: 081, Loss: 0.5144\n",
            "Epoch: 082, Loss: 0.5488\n",
            "Epoch: 083, Loss: 0.5917\n",
            "Epoch: 084, Loss: 0.6278\n",
            "Epoch: 085, Loss: 0.6057\n",
            "Epoch: 086, Loss: 0.6202\n",
            "Epoch: 087, Loss: 0.4804\n",
            "Epoch: 088, Loss: 0.5328\n",
            "Epoch: 089, Loss: 0.5489\n",
            "Epoch: 090, Loss: 0.5127\n",
            "Epoch: 091, Loss: 0.5444\n",
            "Epoch: 092, Loss: 0.5818\n",
            "Epoch: 093, Loss: 0.4831\n",
            "Epoch: 094, Loss: 0.5579\n",
            "Epoch: 095, Loss: 0.5032\n",
            "Epoch: 096, Loss: 0.5278\n",
            "Epoch: 097, Loss: 0.4652\n",
            "Epoch: 098, Loss: 0.5292\n",
            "Epoch: 099, Loss: 0.5748\n",
            "Epoch: 100, Loss: 0.5078\n",
            "Epoch: 101, Loss: 0.4361\n",
            "Epoch: 102, Loss: 0.5125\n",
            "Epoch: 103, Loss: 0.4820\n",
            "Epoch: 104, Loss: 0.4802\n",
            "Epoch: 105, Loss: 0.4731\n",
            "Epoch: 106, Loss: 0.5326\n",
            "Epoch: 107, Loss: 0.4918\n",
            "Epoch: 108, Loss: 0.4732\n",
            "Epoch: 109, Loss: 0.5069\n",
            "Epoch: 110, Loss: 0.4658\n",
            "Epoch: 111, Loss: 0.4502\n",
            "Epoch: 112, Loss: 0.5123\n",
            "Epoch: 113, Loss: 0.4542\n",
            "Epoch: 114, Loss: 0.4683\n",
            "Epoch: 115, Loss: 0.4664\n",
            "Epoch: 116, Loss: 0.4151\n",
            "Epoch: 117, Loss: 0.4517\n",
            "Epoch: 118, Loss: 0.4175\n",
            "Epoch: 119, Loss: 0.4873\n",
            "Epoch: 120, Loss: 0.4191\n",
            "Epoch: 121, Loss: 0.4398\n",
            "Epoch: 122, Loss: 0.4270\n",
            "Epoch: 123, Loss: 0.5053\n",
            "Epoch: 124, Loss: 0.4281\n",
            "Epoch: 125, Loss: 0.5353\n",
            "Epoch: 126, Loss: 0.4332\n",
            "Epoch: 127, Loss: 0.4396\n",
            "Epoch: 128, Loss: 0.4369\n",
            "Epoch: 129, Loss: 0.4962\n",
            "Epoch: 130, Loss: 0.4491\n",
            "Epoch: 131, Loss: 0.4345\n",
            "Epoch: 132, Loss: 0.4535\n",
            "Epoch: 133, Loss: 0.4801\n",
            "Epoch: 134, Loss: 0.4789\n",
            "Epoch: 135, Loss: 0.3900\n",
            "Epoch: 136, Loss: 0.4103\n",
            "Epoch: 137, Loss: 0.4875\n",
            "Epoch: 138, Loss: 0.4212\n",
            "Epoch: 139, Loss: 0.4655\n",
            "Epoch: 140, Loss: 0.4426\n",
            "Epoch: 141, Loss: 0.4022\n",
            "Epoch: 142, Loss: 0.4243\n",
            "Epoch: 143, Loss: 0.4288\n",
            "Epoch: 144, Loss: 0.4227\n",
            "Epoch: 145, Loss: 0.4991\n",
            "Epoch: 146, Loss: 0.3758\n",
            "Epoch: 147, Loss: 0.4061\n",
            "Epoch: 148, Loss: 0.3529\n",
            "Epoch: 149, Loss: 0.3686\n",
            "Epoch: 150, Loss: 0.4146\n",
            "Epoch: 151, Loss: 0.3836\n",
            "Epoch: 152, Loss: 0.4203\n",
            "Epoch: 153, Loss: 0.4591\n",
            "Epoch: 154, Loss: 0.4231\n",
            "Epoch: 155, Loss: 0.3670\n",
            "Epoch: 156, Loss: 0.4860\n",
            "Epoch: 157, Loss: 0.4142\n",
            "Epoch: 158, Loss: 0.4011\n",
            "Epoch: 159, Loss: 0.4194\n",
            "Epoch: 160, Loss: 0.4921\n",
            "Epoch: 161, Loss: 0.4020\n",
            "Epoch: 162, Loss: 0.3797\n",
            "Epoch: 163, Loss: 0.3409\n",
            "Epoch: 164, Loss: 0.4180\n",
            "Epoch: 165, Loss: 0.4364\n",
            "Epoch: 166, Loss: 0.3700\n",
            "Epoch: 167, Loss: 0.4699\n",
            "Epoch: 168, Loss: 0.3767\n",
            "Epoch: 169, Loss: 0.3874\n",
            "Epoch: 170, Loss: 0.3707\n",
            "Epoch: 171, Loss: 0.4087\n",
            "Epoch: 172, Loss: 0.4178\n",
            "Epoch: 173, Loss: 0.3996\n",
            "Epoch: 174, Loss: 0.3929\n",
            "Epoch: 175, Loss: 0.4146\n",
            "Epoch: 176, Loss: 0.4156\n",
            "Epoch: 177, Loss: 0.3877\n",
            "Epoch: 178, Loss: 0.3807\n",
            "Epoch: 179, Loss: 0.4097\n",
            "Epoch: 180, Loss: 0.3892\n",
            "Epoch: 181, Loss: 0.4143\n",
            "Epoch: 182, Loss: 0.3476\n",
            "Epoch: 183, Loss: 0.3734\n",
            "Epoch: 184, Loss: 0.4284\n",
            "Epoch: 185, Loss: 0.4550\n",
            "Epoch: 186, Loss: 0.3613\n",
            "Epoch: 187, Loss: 0.3996\n",
            "Epoch: 188, Loss: 0.3849\n",
            "Epoch: 189, Loss: 0.4075\n",
            "Epoch: 190, Loss: 0.4187\n",
            "Epoch: 191, Loss: 0.4234\n",
            "Epoch: 192, Loss: 0.4621\n",
            "Epoch: 193, Loss: 0.3743\n",
            "Epoch: 194, Loss: 0.3258\n",
            "Epoch: 195, Loss: 0.3411\n",
            "Epoch: 196, Loss: 0.3923\n",
            "Epoch: 197, Loss: 0.3520\n",
            "Epoch: 198, Loss: 0.3917\n",
            "Epoch: 199, Loss: 0.4151\n",
            "Epoch: 200, Loss: 0.3789\n"
          ]
        }
      ]
    },
    {
      "cell_type": "code",
      "source": [
        "test_acc = test()\n",
        "print(f'Test Accuracy: {test_acc:.4f}')"
      ],
      "metadata": {
        "colab": {
          "base_uri": "https://localhost:8080/"
        },
        "id": "bEIHt0tuFIkF",
        "outputId": "f8d466b3-c7be-4740-9658-9b535023c488"
      },
      "execution_count": null,
      "outputs": [
        {
          "output_type": "stream",
          "name": "stdout",
          "text": [
            "Test Accuracy: 0.5820\n"
          ]
        }
      ]
    }
  ]
}